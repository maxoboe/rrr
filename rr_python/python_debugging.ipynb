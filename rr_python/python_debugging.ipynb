{
 "cells": [
  {
   "cell_type": "code",
   "execution_count": 1,
   "metadata": {},
   "outputs": [],
   "source": [
    "\"\"\"\n",
    "This document is adapted from the implementation of https://arxiv.org/pdf/1802.08667.pdf\n",
    "by Rahul Singh, available here: https://github.com/r4hu1-5in9h/rrr/\n",
    "\n",
    "This implementation is coded in Python, and calculates the debiased average derivative of the machine learner.\n",
    "It extends the original implementation to find the debiased average derivative for a neural network \n",
    "directly from the automatic derivatives of the network, instead of the partial differences approach. \n",
    "\"\"\"\n",
    "\n",
    "base = \"/Users/max/Dropbox (MIT)/ag_production_functions/code/riesz_representer/rr_python/\" \n",
    "\n",
    "import os\n",
    "import sys\n",
    "sys.path.append(os.path.abspath(base))\n",
    "import numpy as np"
   ]
  },
  {
   "cell_type": "code",
   "execution_count": 6,
   "metadata": {},
   "outputs": [],
   "source": [
    "from importlib import reload\n",
    "import gen_dataset\n",
    "import pandas as pd"
   ]
  },
  {
   "cell_type": "code",
   "execution_count": 15,
   "metadata": {},
   "outputs": [
    {
     "name": "stdout",
     "output_type": "stream",
     "text": [
      "(5001, 92)\n"
     ]
    }
   ],
   "source": [
    "#######################\n",
    "# clean and format data\n",
    "#######################\n",
    "\n",
    "# Implements get_data\n",
    "gen_dataset = reload(gen_dataset)\n",
    "\n",
    "gas_df = pd.read_stata(base + 'gasoline_final_tf1.dta')\n",
    "take_logs = ['gas', 'price', 'income', 'age', 'distance']\n",
    "# take logs of continuous variables; part of pre-processing\n",
    "for label in take_logs:\n",
    "\tgas_df[label] = np.log(gas_df[label])\n",
    "\n",
    "gas_df['price2']=gas_df['price']**2\n",
    "spec=1\n",
    "# specification\n",
    "if spec == 1:\n",
    "    factor_list = 'C(driver) + C(hhsize) + C(month) + C(prov) + C(year)'\n",
    "    rhs_termlist = 'price + I(price**2) + (price:(' + factor_list + ')) + (I(price**2):(' \\\n",
    "        + factor_list + ')) + ' + factor_list + ' + urban + youngsingle + distance + I(distance**2) + age + I(age**2) + income + I(income**2)'\n",
    "elif spec == 0:\n",
    "    factor_list = 'C(driver) + C(hhsize) + C(month) + C(prov) + C(year) + age + age**2 + income + income**2'\n",
    "    rhs_termlist = 'price + price**2 + (price : (' + factor_list + ')) + (price**2 : (' \\\n",
    "                + factor_list + ')) + ' + factor_list + ' + urban + youngsingle + distance + distance**2'\n",
    "\n",
    "quintile=0\n",
    "output_var = 'gas'\n",
    "x_vars = ['price']\n",
    "\n",
    "Y, X, X_up, X_down, delta = gen_dataset.gen_dataset(rhs_termlist, gas_df, output_var, x_vars, quintile )\n",
    "p = X.shape[1]\n",
    "n = X.shape[0]"
   ]
  },
  {
   "cell_type": "code",
   "execution_count": 13,
   "metadata": {},
   "outputs": [
    {
     "data": {
      "text/plain": [
       "'price + (price**2) + (price:(C(driver) + C(hhsize) + C(month) + C(prov) + C(year))) + ((price**2):(C(driver) + C(hhsize) + C(month) + C(prov) + C(year))) + C(driver) + C(hhsize) + C(month) + C(prov) + C(year) + urban + youngsingle + distance + distance**2 + age + age**2 + income + income**2'"
      ]
     },
     "execution_count": 13,
     "metadata": {},
     "output_type": "execute_result"
    }
   ],
   "source": [
    "rhs_termlist"
   ]
  },
  {
   "cell_type": "code",
   "execution_count": 7,
   "metadata": {},
   "outputs": [
    {
     "data": {
      "text/plain": [
       "0.023076947625075304"
      ]
     },
     "execution_count": 7,
     "metadata": {},
     "output_type": "execute_result"
    }
   ],
   "source": [
    "import config\n",
    "from scipy.stats import norm\n",
    "config.c * norm.ppf(1 - config.alpha / (2 * p)) / np.sqrt(n)"
   ]
  },
  {
   "cell_type": "code",
   "execution_count": 64,
   "metadata": {},
   "outputs": [
    {
     "data": {
      "text/plain": [
       "(5001, 91)"
      ]
     },
     "execution_count": 64,
     "metadata": {},
     "output_type": "execute_result"
    }
   ],
   "source": [
    "index_list = list(range(0, 29)) +  [56] + list(range(84, 91)) +  list(range(29, 56)) +  list(range(57, 84))\n",
    "X_r_order = X[:, index_list]\n",
    "X_r_order.shape"
   ]
  },
  {
   "cell_type": "code",
   "execution_count": 62,
   "metadata": {},
   "outputs": [
    {
     "data": {
      "text/plain": [
       "[0,\n",
       " 1,\n",
       " 2,\n",
       " 3,\n",
       " 4,\n",
       " 5,\n",
       " 6,\n",
       " 7,\n",
       " 8,\n",
       " 9,\n",
       " 10,\n",
       " 11,\n",
       " 12,\n",
       " 13,\n",
       " 14,\n",
       " 15,\n",
       " 16,\n",
       " 17,\n",
       " 18,\n",
       " 19,\n",
       " 20,\n",
       " 21,\n",
       " 22,\n",
       " 23,\n",
       " 24,\n",
       " 25,\n",
       " 26,\n",
       " 27,\n",
       " 28,\n",
       " 56]"
      ]
     },
     "execution_count": 62,
     "metadata": {},
     "output_type": "execute_result"
    }
   ],
   "source": [
    "list(range(0, 29)) + [56]"
   ]
  },
  {
   "cell_type": "code",
   "execution_count": 91,
   "metadata": {
    "scrolled": false
   },
   "outputs": [
    {
     "name": "stdout",
     "output_type": "stream",
     "text": [
      "[ 5.37986763e+00  6.50455676e-02  4.04509265e-01  3.61571002e-01\n",
      "  0.00000000e+00  0.00000000e+00 -1.06751814e-01  0.00000000e+00\n",
      "  5.35413112e-02  6.16485910e-02  0.00000000e+00 -5.02884860e-02\n",
      "  0.00000000e+00 -4.54046369e-02  0.00000000e+00 -2.47653424e-02\n",
      "  0.00000000e+00  0.00000000e+00  0.00000000e+00  0.00000000e+00\n",
      "  0.00000000e+00  0.00000000e+00 -1.43217654e-01  0.00000000e+00\n",
      "  0.00000000e+00  0.00000000e+00  0.00000000e+00  0.00000000e+00\n",
      "  0.00000000e+00  0.00000000e+00 -7.47107591e-02 -2.47923502e-02\n",
      "  9.27004630e-03 -1.03455996e-02 -4.51094461e-04  0.00000000e+00\n",
      "  0.00000000e+00 -1.67524163e-01 -8.65957737e-03  0.00000000e+00\n",
      "  0.00000000e+00  0.00000000e+00  0.00000000e+00  0.00000000e+00\n",
      "  0.00000000e+00  0.00000000e+00  0.00000000e+00  0.00000000e+00\n",
      "  0.00000000e+00  0.00000000e+00  0.00000000e+00  0.00000000e+00\n",
      "  0.00000000e+00  0.00000000e+00  0.00000000e+00  0.00000000e+00\n",
      "  0.00000000e+00  0.00000000e+00  0.00000000e+00  0.00000000e+00\n",
      "  0.00000000e+00  0.00000000e+00  0.00000000e+00  1.56261872e-02\n",
      "  5.94792709e-03  0.00000000e+00  0.00000000e+00  0.00000000e+00\n",
      "  0.00000000e+00  0.00000000e+00  0.00000000e+00  0.00000000e+00\n",
      "  0.00000000e+00  0.00000000e+00  0.00000000e+00  0.00000000e+00\n",
      "  0.00000000e+00  0.00000000e+00  0.00000000e+00  0.00000000e+00\n",
      "  0.00000000e+00  0.00000000e+00  0.00000000e+00  0.00000000e+00\n",
      "  0.00000000e+00  0.00000000e+00  0.00000000e+00  0.00000000e+00\n",
      "  0.00000000e+00  0.00000000e+00  0.00000000e+00]\n",
      "[ 5.31798464e+00  1.24852939e-01  4.93177764e-01  4.30612889e-01\n",
      "  0.00000000e+00  0.00000000e+00 -1.03205444e-01  0.00000000e+00\n",
      "  5.61499159e-02  5.39964921e-02  0.00000000e+00 -3.38990722e-02\n",
      "  0.00000000e+00 -2.66702441e-02  0.00000000e+00  0.00000000e+00\n",
      "  0.00000000e+00  0.00000000e+00  0.00000000e+00  0.00000000e+00\n",
      "  0.00000000e+00  0.00000000e+00 -1.45498340e-01 -3.38229588e-03\n",
      "  0.00000000e+00  0.00000000e+00 -3.23967599e-03 -8.52797729e-03\n",
      "  1.95751794e-02  0.00000000e+00 -1.21093072e-01  0.00000000e+00\n",
      "  1.54110572e-02 -1.96831069e-02 -8.36727849e-04  0.00000000e+00\n",
      "  0.00000000e+00 -2.34286439e-01 -3.02607639e-02  0.00000000e+00\n",
      "  0.00000000e+00  0.00000000e+00  0.00000000e+00  0.00000000e+00\n",
      "  0.00000000e+00  0.00000000e+00  0.00000000e+00  0.00000000e+00\n",
      "  0.00000000e+00  0.00000000e+00  0.00000000e+00  0.00000000e+00\n",
      "  0.00000000e+00  0.00000000e+00  0.00000000e+00  0.00000000e+00\n",
      "  0.00000000e+00  0.00000000e+00  0.00000000e+00  0.00000000e+00\n",
      "  0.00000000e+00  0.00000000e+00  0.00000000e+00  0.00000000e+00\n",
      "  0.00000000e+00  0.00000000e+00  0.00000000e+00  0.00000000e+00\n",
      "  0.00000000e+00  0.00000000e+00  0.00000000e+00  0.00000000e+00\n",
      "  0.00000000e+00  0.00000000e+00  0.00000000e+00  0.00000000e+00\n",
      "  0.00000000e+00  0.00000000e+00  0.00000000e+00  0.00000000e+00\n",
      "  0.00000000e+00  0.00000000e+00  0.00000000e+00  0.00000000e+00\n",
      "  0.00000000e+00  0.00000000e+00  0.00000000e+00  0.00000000e+00\n",
      "  0.00000000e+00  0.00000000e+00  0.00000000e+00]\n",
      "[ 5.28261959e+00  1.56138348e-01  5.48046161e-01  4.97719619e-01\n",
      "  0.00000000e+00  0.00000000e+00 -8.41176852e-02  0.00000000e+00\n",
      "  6.12807255e-02  5.75870070e-02  0.00000000e+00 -1.55372227e-02\n",
      "  0.00000000e+00 -6.76806235e-03  0.00000000e+00  0.00000000e+00\n",
      "  0.00000000e+00  0.00000000e+00  0.00000000e+00  0.00000000e+00\n",
      "  0.00000000e+00  0.00000000e+00 -1.23516210e-01  0.00000000e+00\n",
      "  0.00000000e+00  0.00000000e+00  0.00000000e+00 -9.51634466e-03\n",
      "  3.26570405e-02  0.00000000e+00 -1.51710664e-01  0.00000000e+00\n",
      "  1.99876394e-02 -2.84741226e-02 -1.19721654e-03  0.00000000e+00\n",
      "  0.00000000e+00 -2.60298220e-01 -2.46865452e-02  0.00000000e+00\n",
      "  0.00000000e+00  0.00000000e+00  0.00000000e+00  0.00000000e+00\n",
      " -3.24046126e-04  0.00000000e+00  0.00000000e+00  0.00000000e+00\n",
      "  0.00000000e+00  0.00000000e+00  0.00000000e+00  0.00000000e+00\n",
      "  0.00000000e+00  0.00000000e+00  0.00000000e+00  0.00000000e+00\n",
      "  0.00000000e+00  0.00000000e+00  0.00000000e+00  0.00000000e+00\n",
      " -1.25457708e-02  0.00000000e+00  0.00000000e+00  0.00000000e+00\n",
      "  0.00000000e+00  0.00000000e+00  0.00000000e+00  0.00000000e+00\n",
      "  0.00000000e+00  0.00000000e+00  0.00000000e+00  0.00000000e+00\n",
      "  0.00000000e+00  0.00000000e+00  0.00000000e+00  0.00000000e+00\n",
      "  0.00000000e+00  0.00000000e+00  0.00000000e+00  0.00000000e+00\n",
      "  0.00000000e+00  0.00000000e+00  0.00000000e+00  0.00000000e+00\n",
      "  0.00000000e+00  0.00000000e+00  0.00000000e+00  0.00000000e+00\n",
      "  0.00000000e+00  0.00000000e+00  0.00000000e+00]\n",
      "[ 5.26158690e+00  1.71939913e-01  5.89538487e-01  5.33206241e-01\n",
      "  0.00000000e+00  0.00000000e+00 -6.41031797e-02  0.00000000e+00\n",
      "  7.05727052e-02  6.64138522e-02  0.00000000e+00 -1.89170066e-03\n",
      "  0.00000000e+00  0.00000000e+00  0.00000000e+00  0.00000000e+00\n",
      "  0.00000000e+00  0.00000000e+00  0.00000000e+00  0.00000000e+00\n",
      "  0.00000000e+00  0.00000000e+00 -1.00602794e-01  0.00000000e+00\n",
      "  9.10227649e-04  0.00000000e+00  0.00000000e+00  0.00000000e+00\n",
      "  3.02785861e-02  0.00000000e+00 -1.72346132e-01  0.00000000e+00\n",
      "  2.35150873e-02 -3.69220310e-02 -1.54074599e-03  0.00000000e+00\n",
      "  0.00000000e+00 -2.65462098e-01  0.00000000e+00  0.00000000e+00\n",
      "  0.00000000e+00  0.00000000e+00  0.00000000e+00  0.00000000e+00\n",
      "  0.00000000e+00  0.00000000e+00  0.00000000e+00  0.00000000e+00\n",
      "  0.00000000e+00  0.00000000e+00  0.00000000e+00  0.00000000e+00\n",
      "  0.00000000e+00  0.00000000e+00  0.00000000e+00  0.00000000e+00\n",
      "  0.00000000e+00  0.00000000e+00  0.00000000e+00  0.00000000e+00\n",
      " -3.47823152e-02  0.00000000e+00  0.00000000e+00  0.00000000e+00\n",
      "  0.00000000e+00  0.00000000e+00  0.00000000e+00  0.00000000e+00\n",
      "  0.00000000e+00  0.00000000e+00  0.00000000e+00  0.00000000e+00\n",
      "  0.00000000e+00  0.00000000e+00  0.00000000e+00  0.00000000e+00\n",
      "  0.00000000e+00  0.00000000e+00  0.00000000e+00  0.00000000e+00\n",
      "  0.00000000e+00  0.00000000e+00  0.00000000e+00  0.00000000e+00\n",
      "  0.00000000e+00  0.00000000e+00  0.00000000e+00  0.00000000e+00\n",
      "  0.00000000e+00  0.00000000e+00  0.00000000e+00]\n",
      "[ 5.24648424e+00  1.80089003e-01  6.22462777e-01  5.47629425e-01\n",
      "  0.00000000e+00  0.00000000e+00 -4.64390525e-02  0.00000000e+00\n",
      "  8.09703335e-02  7.60955200e-02  0.00000000e+00  0.00000000e+00\n",
      "  0.00000000e+00  0.00000000e+00  0.00000000e+00  0.00000000e+00\n",
      "  0.00000000e+00  0.00000000e+00  0.00000000e+00  0.00000000e+00\n",
      "  0.00000000e+00  0.00000000e+00 -8.14331875e-02  0.00000000e+00\n",
      "  4.12029863e-03  0.00000000e+00  0.00000000e+00  0.00000000e+00\n",
      "  8.13806080e-03  0.00000000e+00 -1.86042640e-01  0.00000000e+00\n",
      "  2.63795773e-02 -4.51472892e-02 -1.87270750e-03  0.00000000e+00\n",
      "  0.00000000e+00 -2.59481565e-01  0.00000000e+00  0.00000000e+00\n",
      "  0.00000000e+00  0.00000000e+00  0.00000000e+00 -1.56053381e-03\n",
      "  0.00000000e+00  0.00000000e+00  0.00000000e+00  0.00000000e+00\n",
      "  0.00000000e+00  0.00000000e+00  0.00000000e+00  0.00000000e+00\n",
      "  0.00000000e+00  0.00000000e+00  0.00000000e+00  0.00000000e+00\n",
      "  0.00000000e+00  0.00000000e+00  0.00000000e+00  0.00000000e+00\n",
      " -4.53402936e-02  0.00000000e+00  0.00000000e+00  0.00000000e+00\n",
      "  0.00000000e+00  0.00000000e+00  0.00000000e+00  0.00000000e+00\n",
      "  0.00000000e+00  0.00000000e+00  0.00000000e+00  0.00000000e+00\n",
      "  0.00000000e+00  0.00000000e+00  0.00000000e+00  0.00000000e+00\n",
      "  0.00000000e+00  0.00000000e+00  0.00000000e+00  0.00000000e+00\n",
      "  0.00000000e+00  0.00000000e+00  0.00000000e+00  0.00000000e+00\n",
      "  0.00000000e+00  0.00000000e+00  0.00000000e+00  0.00000000e+00\n",
      "  0.00000000e+00  0.00000000e+00  0.00000000e+00]\n",
      "[ 5.23516454e+00  1.86777470e-01  6.32772701e-01  5.53215845e-01\n",
      "  0.00000000e+00  0.00000000e+00 -3.14356417e-02  3.80963602e-03\n",
      "  9.05955408e-02  8.52058852e-02  4.00563586e-03  0.00000000e+00\n",
      "  0.00000000e+00  0.00000000e+00  0.00000000e+00  0.00000000e+00\n",
      "  0.00000000e+00  0.00000000e+00  0.00000000e+00  0.00000000e+00\n",
      "  0.00000000e+00  0.00000000e+00 -6.84524518e-02  0.00000000e+00\n",
      "  7.91849283e-03  0.00000000e+00  0.00000000e+00  0.00000000e+00\n",
      "  0.00000000e+00  0.00000000e+00 -1.82280014e-01  0.00000000e+00\n",
      "  2.93562425e-02 -5.32034714e-02 -2.19082662e-03  0.00000000e+00\n",
      "  0.00000000e+00 -2.47645245e-01  0.00000000e+00  0.00000000e+00\n",
      "  0.00000000e+00  0.00000000e+00  0.00000000e+00 -8.08795303e-03\n",
      "  0.00000000e+00  0.00000000e+00  0.00000000e+00  0.00000000e+00\n",
      "  0.00000000e+00  0.00000000e+00  0.00000000e+00  0.00000000e+00\n",
      "  0.00000000e+00  0.00000000e+00  0.00000000e+00  0.00000000e+00\n",
      "  0.00000000e+00  0.00000000e+00  0.00000000e+00  0.00000000e+00\n",
      " -5.00865821e-02  0.00000000e+00  0.00000000e+00  0.00000000e+00\n",
      "  0.00000000e+00  0.00000000e+00  0.00000000e+00  0.00000000e+00\n",
      "  0.00000000e+00  0.00000000e+00  0.00000000e+00  0.00000000e+00\n",
      "  0.00000000e+00  0.00000000e+00  0.00000000e+00  0.00000000e+00\n",
      "  0.00000000e+00  0.00000000e+00  0.00000000e+00  0.00000000e+00\n",
      "  0.00000000e+00  0.00000000e+00  0.00000000e+00  0.00000000e+00\n",
      "  0.00000000e+00  0.00000000e+00  0.00000000e+00  0.00000000e+00\n",
      "  0.00000000e+00  0.00000000e+00  0.00000000e+00]\n",
      "[ 5.22595420e+00  1.92027473e-01  6.34823024e-01  5.53709037e-01\n",
      "  0.00000000e+00  0.00000000e+00 -1.79995517e-02  1.00234858e-02\n",
      "  9.97157925e-02  9.44171627e-02  1.38627321e-02  0.00000000e+00\n",
      "  0.00000000e+00  0.00000000e+00  0.00000000e+00  0.00000000e+00\n",
      "  0.00000000e+00  0.00000000e+00  0.00000000e+00  0.00000000e+00\n",
      "  0.00000000e+00  0.00000000e+00 -6.21462157e-02  0.00000000e+00\n",
      "  1.16760197e-02  0.00000000e+00  0.00000000e+00  0.00000000e+00\n",
      "  0.00000000e+00  0.00000000e+00 -1.71721454e-01  0.00000000e+00\n",
      "  3.27275011e-02 -6.11077008e-02 -2.49373166e-03  0.00000000e+00\n",
      "  0.00000000e+00 -2.32361081e-01  0.00000000e+00  0.00000000e+00\n",
      "  0.00000000e+00  0.00000000e+00  0.00000000e+00 -1.21823972e-02\n",
      "  0.00000000e+00  0.00000000e+00  0.00000000e+00  0.00000000e+00\n",
      "  0.00000000e+00  0.00000000e+00  0.00000000e+00  0.00000000e+00\n",
      "  0.00000000e+00  0.00000000e+00  0.00000000e+00  0.00000000e+00\n",
      "  0.00000000e+00  0.00000000e+00  0.00000000e+00  0.00000000e+00\n",
      " -5.15617691e-02  0.00000000e+00  0.00000000e+00  0.00000000e+00\n",
      "  0.00000000e+00  0.00000000e+00  0.00000000e+00  0.00000000e+00\n",
      "  0.00000000e+00  0.00000000e+00  0.00000000e+00  0.00000000e+00\n",
      "  0.00000000e+00  0.00000000e+00  0.00000000e+00  0.00000000e+00\n",
      "  0.00000000e+00  0.00000000e+00  0.00000000e+00  0.00000000e+00\n",
      "  0.00000000e+00  0.00000000e+00  0.00000000e+00  0.00000000e+00\n",
      "  0.00000000e+00  0.00000000e+00  0.00000000e+00  0.00000000e+00\n",
      "  0.00000000e+00  0.00000000e+00  0.00000000e+00]\n",
      "[ 5.21826753e+00  1.96512532e-01  6.32688072e-01  5.50211357e-01\n",
      "  0.00000000e+00  0.00000000e+00 -5.73774701e-03  1.70724636e-02\n",
      "  1.08324334e-01  1.03236929e-01  2.35579505e-02  0.00000000e+00\n",
      "  0.00000000e+00  0.00000000e+00  0.00000000e+00  0.00000000e+00\n",
      "  0.00000000e+00  0.00000000e+00  0.00000000e+00  0.00000000e+00\n",
      "  0.00000000e+00  0.00000000e+00 -5.93867490e-02  0.00000000e+00\n",
      "  1.53077945e-02  0.00000000e+00  0.00000000e+00  0.00000000e+00\n",
      "  0.00000000e+00  0.00000000e+00 -1.62256424e-01  0.00000000e+00\n",
      "  3.64409445e-02 -6.88682212e-02 -2.78226836e-03  0.00000000e+00\n",
      "  0.00000000e+00 -2.14912457e-01  0.00000000e+00  0.00000000e+00\n",
      "  0.00000000e+00  0.00000000e+00  0.00000000e+00 -1.39846742e-02\n",
      "  0.00000000e+00  0.00000000e+00  0.00000000e+00  0.00000000e+00\n",
      "  0.00000000e+00  0.00000000e+00  0.00000000e+00  0.00000000e+00\n",
      "  0.00000000e+00  0.00000000e+00  0.00000000e+00  0.00000000e+00\n",
      "  0.00000000e+00  0.00000000e+00  0.00000000e+00  0.00000000e+00\n",
      " -5.04587814e-02  0.00000000e+00  0.00000000e+00  0.00000000e+00\n",
      "  0.00000000e+00  0.00000000e+00  0.00000000e+00  0.00000000e+00\n",
      "  0.00000000e+00  0.00000000e+00  0.00000000e+00  0.00000000e+00\n",
      "  0.00000000e+00  0.00000000e+00  0.00000000e+00  0.00000000e+00\n",
      "  0.00000000e+00  0.00000000e+00  0.00000000e+00  0.00000000e+00\n",
      "  0.00000000e+00  0.00000000e+00  0.00000000e+00  0.00000000e+00\n",
      "  0.00000000e+00  0.00000000e+00  0.00000000e+00  0.00000000e+00\n",
      "  0.00000000e+00  0.00000000e+00  0.00000000e+00]\n",
      "[ 5.21156190e+00  2.00591204e-01  6.28294264e-01  5.44427027e-01\n",
      "  0.00000000e+00  0.00000000e+00  0.00000000e+00  2.45433884e-02\n",
      "  1.16251857e-01  1.11251883e-01  3.21919600e-02  0.00000000e+00\n",
      "  0.00000000e+00  0.00000000e+00  0.00000000e+00  0.00000000e+00\n",
      "  0.00000000e+00  0.00000000e+00  0.00000000e+00  0.00000000e+00\n",
      "  0.00000000e+00  0.00000000e+00 -5.63864895e-02  0.00000000e+00\n",
      "  2.08962438e-02  0.00000000e+00  0.00000000e+00  0.00000000e+00\n",
      "  0.00000000e+00  0.00000000e+00 -1.53367672e-01  0.00000000e+00\n",
      "  4.04738624e-02 -7.64697766e-02 -3.05314469e-03  0.00000000e+00\n",
      "  0.00000000e+00 -1.97291324e-01  0.00000000e+00  0.00000000e+00\n",
      "  0.00000000e+00  0.00000000e+00  0.00000000e+00 -9.73353382e-03\n",
      "  0.00000000e+00  0.00000000e+00  0.00000000e+00  0.00000000e+00\n",
      "  0.00000000e+00  0.00000000e+00  0.00000000e+00  0.00000000e+00\n",
      "  0.00000000e+00  0.00000000e+00  0.00000000e+00  0.00000000e+00\n",
      "  0.00000000e+00  0.00000000e+00  0.00000000e+00  0.00000000e+00\n",
      " -4.58413008e-02  0.00000000e+00  0.00000000e+00  0.00000000e+00\n",
      "  0.00000000e+00  0.00000000e+00  0.00000000e+00  0.00000000e+00\n",
      "  0.00000000e+00  0.00000000e+00  0.00000000e+00  0.00000000e+00\n",
      "  0.00000000e+00  0.00000000e+00  0.00000000e+00  0.00000000e+00\n",
      "  0.00000000e+00  0.00000000e+00  0.00000000e+00  0.00000000e+00\n",
      "  0.00000000e+00  0.00000000e+00  0.00000000e+00  0.00000000e+00\n",
      "  0.00000000e+00  0.00000000e+00  0.00000000e+00  0.00000000e+00\n",
      "  0.00000000e+00  0.00000000e+00  0.00000000e+00]\n"
     ]
    },
    {
     "data": {
      "text/plain": [
       "()"
      ]
     },
     "execution_count": 91,
     "metadata": {},
     "output_type": "execute_result"
    }
   ],
   "source": [
    "import primitives\n",
    "stage_1 = reload(stage_1)\n",
    "\n",
    "def RMD_lasso(M, G, D, _lambda=0, control = {\"max_iter\":10, \"optTol\":1e-5, \"zeroThreshold\":1e-6},\n",
    "     beta_start = None):\n",
    "    p = G.shape[1] # num columns \n",
    "    Gt = G\n",
    "    Mt = M\n",
    "    L = np.concatenate([np.array([config.l]), np.ones(p-1)])\n",
    "    lambda_vec = _lambda*L*D\n",
    "    if beta_start is None: # Warm start; allows passing in previous beta\n",
    "        beta = np.zeros(p)\n",
    "    else:\n",
    "        beta = beta_start\n",
    "    wp = beta\n",
    "    mm = 1\n",
    "    k_0 = 0\n",
    "    k_2 = 0\n",
    "    k_3 = 0\n",
    "    while mm < control['max_iter']:\n",
    "        beta_old = beta.copy()\n",
    "        for j in range(p):\n",
    "            rho = Mt[j] - Gt[j, :] @ beta + Gt[j,j]*beta[j]\n",
    "            z = Gt[j,j]\n",
    "            if np.isnan(rho):\n",
    "                beta[j] = 0\n",
    "                continue\n",
    "            if rho < -1 * lambda_vec[j]:\n",
    "                beta[j] = (rho+lambda_vec[j])/z\n",
    "            if (np.abs(rho) <= lambda_vec[j]):\n",
    "                beta[j] = 0\n",
    "            if (rho > lambda_vec[j]):\n",
    "                beta[j] = (rho-lambda_vec[j])/z\n",
    "        wp = np.c_[wp, beta]\n",
    "        if (np.nansum(np.abs(beta - beta_old)) < control['optTol']):\n",
    "            break\n",
    "        mm = mm + 1\n",
    "        print(beta)\n",
    "    w = beta\n",
    "    w[np.abs(w) < control['zeroThreshold']] = 0\n",
    "    return w, wp, mm # returns coefficients, list of past coefficients, and number of steps \n",
    "\n",
    "\n",
    "def RMD_stable(Y,X,X_up,X_down,delta,p0,D_LB,D_add,max_iter,is_alpha,is_lasso):\n",
    "    n = X.shape[0] # num rows\n",
    "    p = X.shape[1] # num columns\n",
    "\n",
    "    # First, find low-dimensional moments\n",
    "    X0 = X[:, 0:p0]\n",
    "    X0_up = X_up[:, 0:p0]\n",
    "    X0_down = X_down[:, 0:p0]\n",
    "    M_hat0, N_hat0, G_hat0, B0 = primitives.get_MNG(Y, X0, X0_up, X0_down, delta)\n",
    "#     print(M_hat0, N_hat0, G_hat0, B0)\n",
    "    # initial estimate\n",
    "    rho_hat0 = np.linalg.solve(G_hat0, M_hat0)\n",
    "    rho_hat = np.concatenate([rho_hat0, np.zeros(p - G_hat0.shape[1])]) \n",
    "    beta_hat0 = np.linalg.solve(G_hat0, N_hat0)\n",
    "    beta_hat = np.concatenate([beta_hat0, np.zeros(p - G_hat0.shape[1])]) \n",
    "    # Full moments\n",
    "    M_hat, N_hat, G_hat, B = primitives.get_MNG(Y, X, X_up, X_down, delta)\n",
    "    # penalty term \n",
    "    _lambda = config.c * norm.ppf(1 - config.alpha / (2 * p)) / np.sqrt(n)\n",
    "    if is_alpha:\n",
    "        ###########\n",
    "        # alpha_hat\n",
    "        ###########\n",
    "        diff_rho=1\n",
    "        k=1\n",
    "        rho_tracker = []\n",
    "        while (diff_rho>config.tol) & (k<=max_iter):\n",
    "            # previous values\n",
    "            rho_hat_old=rho_hat.copy()\n",
    "            \n",
    "            # normalization\n",
    "            D_hat_rho=stage_1.get_D(Y,X,X_up,X_down,delta,primitives.m_diff,rho_hat_old)\n",
    "            D_hat_rho=np.maximum(D_LB,D_hat_rho) \n",
    "            D_hat_rho=D_hat_rho+D_add\n",
    "            if is_lasso:\n",
    "                rho_hat = RMD_lasso(M_hat, G_hat, D_hat_rho, _lambda)[0]\n",
    "#                 print(rho_hat)\n",
    "            else:\n",
    "                return \"dantzig selector not implemented\"\n",
    "                beta_hat = stage_1.RMD_dantzig(M_hat, G_hat, D_hat_rho, _lambda)[0]\n",
    "            # difference\n",
    "#             assert(False)\n",
    "            diff_rho=primitives.two_norm(rho_hat-rho_hat_old)\n",
    "            rho_tracker.append(diff_rho)\n",
    "            k=k+1\n",
    "        print('k: ' + str(k))\n",
    "        return rho_hat, rho_tracker\n",
    "    else:\n",
    "        ###########\n",
    "        # gamma_hat\n",
    "        ###########\n",
    "        diff_beta=1\n",
    "        k=1\n",
    "        beta_tracker = []\n",
    "        while (diff_beta>config.tol) & (k<=max_iter):\n",
    "            # previous values\n",
    "            beta_hat_old=beta_hat.copy()\n",
    "            \n",
    "            # normalization\n",
    "            D_hat_beta=stage_1.get_D(Y,X,X_up,X_down,delta,primitives.m2,beta_hat_old)\n",
    "            D_hat_beta=np.maximum(D_LB,D_hat_beta) # What is this? \n",
    "            D_hat_beta=D_hat_beta+D_add\n",
    "            if is_lasso:\n",
    "                beta_hat = RMD_lasso(N_hat, G_hat, D_hat_beta, _lambda)[0]\n",
    "            else:\n",
    "                return \"dantzig selector not implemented\"\n",
    "                beta_hat = stage_1.RMD_dantzig(N_hat, G_hat, D_hat_beta, _lambda)[0]\n",
    "            # difference\n",
    "            return()\n",
    "            diff_beta=primitives.two_norm(beta_hat-beta_hat_old)\n",
    "            beta_tracker.append(diff_beta)\n",
    "            k=k+1\n",
    "        print('k: ' + str(k))\n",
    "        return beta_hat, beta_tracker\n",
    "RMD_stable(Y, X_r, X_up_r, X_down_r, delta, p0, D_LB, D_add, max_iter,\n",
    "             is_alpha=0, is_lasso=(alpha_estimator == 'lasso'))"
   ]
  },
  {
   "cell_type": "code",
   "execution_count": 98,
   "metadata": {},
   "outputs": [
    {
     "name": "stdout",
     "output_type": "stream",
     "text": [
      "k: 11\n",
      "k: 11\n",
      "k: 11\n",
      "k: 11\n",
      "k: 11\n",
      "k: 11\n",
      "k: 11\n",
      "k: 11\n",
      "k: 11\n",
      "k: 11\n",
      "[-0.3234838  -0.76389521  1.14925595 ... -1.52942857 -3.73458669\n",
      "  2.49309699]\n"
     ]
    },
    {
     "data": {
      "text/plain": [
       "(5001, -0.14289267508121448, 0.05053818035404757)"
      ]
     },
     "execution_count": 98,
     "metadata": {},
     "output_type": "execute_result"
    }
   ],
   "source": [
    "import stage_2\n",
    "# Y, X, X_up, X_down, delta, p0, D_LB, D_add, max_iter, alpha_estimator, gamma_estimator, bias\n",
    "stage_2.rrr(Y,X_r,X_up_r,X_down_r,delta,\n",
    "            p0,D_LB,D_add,max_iter,alpha_estimator,\"lasso\", 0)"
   ]
  },
  {
   "cell_type": "code",
   "execution_count": 80,
   "metadata": {},
   "outputs": [
    {
     "name": "stdout",
     "output_type": "stream",
     "text": [
      "10000\n",
      "758\n",
      "1062\n",
      "1212\n",
      "1216\n",
      "1216\n",
      "1216\n",
      "1216\n",
      "1216\n",
      "1216\n",
      "k: 11\n"
     ]
    },
    {
     "data": {
      "text/plain": [
       "(array([  39.16255063,    0.        ,    0.        ,    0.        ,\n",
       "           0.        ,    0.        ,    0.27881956,    0.        ,\n",
       "           0.        ,    0.        ,    0.        ,    2.06488351,\n",
       "           0.        ,    0.        ,    0.        ,    0.        ,\n",
       "           0.        ,    0.        ,    0.        ,    0.        ,\n",
       "           0.        ,    0.        ,    0.        ,    9.14670644,\n",
       "           4.81287044,    5.69455933,    0.        ,    0.        ,\n",
       "           0.        , -122.37826831,    0.71455345,    0.        ,\n",
       "           0.        ,    0.        ,    0.        ,    0.        ,\n",
       "           0.        ,    0.        ,    0.        ,    0.        ,\n",
       "           0.        ,    0.        ,    0.        ,    0.        ,\n",
       "           0.        ,    0.        ,    0.        ,    0.        ,\n",
       "           0.        ,    8.49330954,    9.95013225,   11.46739748,\n",
       "           0.        ,    4.19328824,    0.        ,    0.        ,\n",
       "           0.        ,    0.        ,    0.        ,    0.        ,\n",
       "           0.        ,    0.        ,    0.        ,    4.0199667 ,\n",
       "           0.        ,    0.        ,    0.        ,    0.        ,\n",
       "           0.        ,    0.        ,    0.        ,   -0.71466745,\n",
       "           0.        ,    0.        ,    0.        ,    0.        ,\n",
       "           0.        ,  -17.16850096,   -3.50526972,   -8.6964392 ,\n",
       "           0.        ,  -14.75541366,    0.        ,    0.        ,\n",
       "           0.        ,   -5.6485977 ,    0.        ,   13.72739275,\n",
       "           0.        ,   -1.95797647,   -1.86873811]),\n",
       " [217.19704845422206,\n",
       "  242.14059618258534,\n",
       "  13.215141602596038,\n",
       "  3.965218464803662,\n",
       "  1.253772598453331,\n",
       "  0.32673980350585025,\n",
       "  0.08157803025512703,\n",
       "  0.019682192798450553,\n",
       "  0.00467194044569683,\n",
       "  0.0010965369094766797])"
      ]
     },
     "execution_count": 80,
     "metadata": {},
     "output_type": "execute_result"
    }
   ],
   "source": [
    "RMD_stable(Y, X_r, X_up_r, X_down_r, delta, p0, D_LB, D_add, max_iter,\n",
    "             is_alpha=1, is_lasso=(alpha_estimator == 'lasso'))"
   ]
  },
  {
   "cell_type": "code",
   "execution_count": 4,
   "metadata": {},
   "outputs": [
    {
     "name": "stdout",
     "output_type": "stream",
     "text": [
      "k: 3\n",
      "k: 2\n",
      "k: 3\n",
      "k: 2\n",
      "k: 3\n",
      "k: 2\n",
      "k: 3\n",
      "k: 2\n",
      "k: 3\n",
      "k: 2\n",
      "(5001, 0.028784126768979075, 5.794978198355045e-05)\n"
     ]
    }
   ],
   "source": [
    "p = X.shape[1]\n",
    "n = X.shape[0]\n",
    "#p0=dim(X0) used in low-dim dictionary in the stage 1 tuning procedure\n",
    "p0=np.ceil(p/4) #p/2 works for low p\n",
    "if p > 60:\n",
    "  p0 = np.ceil(p/40)\n",
    "p0 = int(p0)\n",
    "D_LB=0 #each diagonal entry of \\hat{D} lower bounded by D_LB\n",
    "D_add=.2 #each diagonal entry of \\hat{D} increased by D_add. 0.1 for 0, 0,.2 otw\n",
    "max_iter=10 #max number iterations in Dantzig selector iteration over estimation and weights\n",
    "\n",
    "alpha_estimator=\"lasso\"\n",
    "gamma_estimator=\"lasso\"\n",
    "bias=0\n",
    "#alpha_estimator: 0 dantzig, 1 lasso\n",
    "#gamma_estimator: 0 dantzig, 1 lasso, 2 rf, 3 nn\n",
    "\n",
    "# set.seed(1) # for sample splitting\n",
    "\n",
    "import stage_2\n",
    "stage_2 = reload(stage_2)\n",
    "results = stage_2.rrr(Y, X, X_up, X_down, delta, p0,\n",
    "    D_LB,D_add,max_iter,alpha_estimator,gamma_estimator,bias)\n",
    "print(results)"
   ]
  },
  {
   "cell_type": "code",
   "execution_count": 19,
   "metadata": {},
   "outputs": [
    {
     "data": {
      "text/plain": [
       "array([-3.07792172e+00, -1.82762546e+00, -1.32712868e+00, -1.14037950e+00,\n",
       "       -1.05882855e+00, -9.99702252e-01, -6.72761673e-01, -6.15623546e-01,\n",
       "       -5.43351980e-01, -5.36793168e-01, -3.62240619e-01, -3.40738156e-01,\n",
       "       -3.12677883e-01, -3.10163378e-01, -2.70866290e-01, -2.49107550e-01,\n",
       "       -2.44018279e-01, -2.41346322e-01, -2.37843444e-01, -2.35287323e-01,\n",
       "       -2.30884034e-01, -2.24415300e-01, -2.23706019e-01, -2.16354200e-01,\n",
       "       -1.08356087e-01, -8.36734140e-02, -8.77571400e-03, -2.11992000e-03,\n",
       "        1.34026800e-03,  3.36554800e-03,  5.20297200e-03,  1.52119070e-02,\n",
       "        4.97485830e-02,  6.45620660e-02,  1.17223116e-01,  1.20520729e-01,\n",
       "        1.28995841e-01,  1.31521272e-01,  1.35580807e-01,  1.36186208e-01,\n",
       "        1.37379338e-01,  1.43252268e-01,  1.44384859e-01,  1.50003836e-01,\n",
       "        1.51592037e-01,  1.58041858e-01,  1.86358447e-01,  1.88931961e-01,\n",
       "        1.90477445e-01,  2.09200698e-01,  2.09326932e-01,  2.90467024e-01,\n",
       "        3.16332376e-01,  3.68565056e-01,  3.78553442e-01,  3.88404786e-01,\n",
       "        3.95720716e-01,  4.02061126e-01,  4.23659654e-01,  4.25248689e-01,\n",
       "        4.30394239e-01,  4.34993822e-01,  4.39300711e-01,  4.41831767e-01,\n",
       "        4.75326200e-01,  5.15413662e-01,  5.28168160e-01,  5.66855910e-01,\n",
       "        6.20844034e-01,  6.27013444e-01,  6.43492298e-01,  6.44153168e-01,\n",
       "        7.81834479e-01,  9.57933939e-01,  1.00811861e+00,  1.01525145e+00,\n",
       "        1.07285754e+00,  1.19296211e+00,  1.64344200e+00,  1.80256923e+00,\n",
       "        1.83102433e+00,  2.06654927e+00,  2.30650638e+00,  3.18833745e+00,\n",
       "        3.60250986e+00,  5.38198836e+00,  2.05571072e+01,  4.09949631e+01,\n",
       "        5.75761666e+01,  7.89137394e+01,  6.17338627e+02])"
      ]
     },
     "execution_count": 19,
     "metadata": {},
     "output_type": "execute_result"
    }
   ],
   "source": [
    "np.sort(A)"
   ]
  },
  {
   "cell_type": "code",
   "execution_count": 20,
   "metadata": {},
   "outputs": [
    {
     "data": {
      "text/plain": [
       "array([-3.07792174e+00, -1.82762548e+00, -1.32712869e+00, -1.14037951e+00,\n",
       "       -1.05882855e+00, -9.99702260e-01, -6.72761678e-01, -6.15623550e-01,\n",
       "       -5.43351985e-01, -5.36793173e-01, -3.62240622e-01, -3.40738159e-01,\n",
       "       -3.12677886e-01, -3.10163381e-01, -2.70866292e-01, -2.49107552e-01,\n",
       "       -2.44018281e-01, -2.41346324e-01, -2.37843446e-01, -2.35287326e-01,\n",
       "       -2.30884035e-01, -2.24415301e-01, -2.23706021e-01, -2.16354201e-01,\n",
       "       -1.08356087e-01, -8.36734145e-02, -8.77571444e-03, -2.11992035e-03,\n",
       "        1.34026781e-03,  3.36554775e-03,  5.20297205e-03,  1.52119072e-02,\n",
       "        4.97485831e-02,  6.45620669e-02,  1.17223116e-01,  1.20520730e-01,\n",
       "        1.28995842e-01,  1.31521273e-01,  1.35580808e-01,  1.36186208e-01,\n",
       "        1.37379338e-01,  1.43252269e-01,  1.44384860e-01,  1.50003837e-01,\n",
       "        1.51592039e-01,  1.58041859e-01,  1.86358448e-01,  1.88931965e-01,\n",
       "        1.90477448e-01,  2.09200700e-01,  2.09326935e-01,  2.90467027e-01,\n",
       "        3.16332380e-01,  3.68565057e-01,  3.78553445e-01,  3.88404789e-01,\n",
       "        3.95720717e-01,  4.02061128e-01,  4.23659656e-01,  4.25248691e-01,\n",
       "        4.30394241e-01,  4.34993824e-01,  4.39300711e-01,  4.41831769e-01,\n",
       "        4.75326203e-01,  5.15413664e-01,  5.28168162e-01,  5.66855912e-01,\n",
       "        6.20844041e-01,  6.27013449e-01,  6.43492300e-01,  6.44153164e-01,\n",
       "        7.81834492e-01,  9.57933942e-01,  1.00811862e+00,  1.01525145e+00,\n",
       "        1.07285755e+00,  1.19296212e+00,  1.64344200e+00,  1.80256925e+00,\n",
       "        1.83102433e+00,  2.06654928e+00,  2.30650639e+00,  3.18833746e+00,\n",
       "        3.60250987e+00,  5.38198838e+00,  2.05581488e+01,  4.09949633e+01,\n",
       "        5.75761668e+01,  7.89184261e+01,  6.17338629e+02])"
      ]
     },
     "execution_count": 20,
     "metadata": {},
     "output_type": "execute_result"
    }
   ],
   "source": [
    "np.sort(N_hat)"
   ]
  },
  {
   "cell_type": "code",
   "execution_count": null,
   "metadata": {},
   "outputs": [],
   "source": []
  },
  {
   "cell_type": "code",
   "execution_count": 36,
   "metadata": {},
   "outputs": [
    {
     "name": "stdout",
     "output_type": "stream",
     "text": [
      "5\n"
     ]
    }
   ],
   "source": [
    "import config \n",
    "print(config.L)"
   ]
  },
  {
   "cell_type": "code",
   "execution_count": 42,
   "metadata": {
    "scrolled": true
   },
   "outputs": [
    {
     "name": "stderr",
     "output_type": "stream",
     "text": [
      "/Library/Frameworks/Python.framework/Versions/3.6/lib/python3.6/site-packages/pandas/core/series.py:842: FutureWarning: \n",
      "Passing list-likes to .loc or [] with any missing label will raise\n",
      "KeyError in the future, you can use .reindex() as an alternative.\n",
      "\n",
      "See the documentation here:\n",
      "https://pandas.pydata.org/pandas-docs/stable/indexing.html#deprecate-loc-reindex-listlike\n",
      "  return self.loc[key]\n"
     ]
    },
    {
     "ename": "KeyError",
     "evalue": "0",
     "output_type": "error",
     "traceback": [
      "\u001b[0;31m---------------------------------------------------------------------------\u001b[0m",
      "\u001b[0;31mKeyError\u001b[0m                                  Traceback (most recent call last)",
      "\u001b[0;32m<ipython-input-42-d38d85bbdf29>\u001b[0m in \u001b[0;36m<module>\u001b[0;34m()\u001b[0m\n\u001b[1;32m     63\u001b[0m     \u001b[0;32mreturn\u001b[0m \u001b[0;34m(\u001b[0m\u001b[0mn\u001b[0m\u001b[0;34m,\u001b[0m \u001b[0mavg_derivative\u001b[0m\u001b[0;34m,\u001b[0m \u001b[0mse\u001b[0m\u001b[0;34m)\u001b[0m\u001b[0;34m\u001b[0m\u001b[0m\n\u001b[1;32m     64\u001b[0m rrr(Y, X, X_up, X_down, delta, p0,\n\u001b[0;32m---> 65\u001b[0;31m     D_LB,D_add,max_iter,alpha_estimator,gamma_estimator,bias)\n\u001b[0m",
      "\u001b[0;32m<ipython-input-42-d38d85bbdf29>\u001b[0m in \u001b[0;36mrrr\u001b[0;34m(Y, X, X_up, X_down, delta, p0, D_LB, D_add, max_iter, alpha_estimator, gamma_estimator, bias)\u001b[0m\n\u001b[1;32m     34\u001b[0m \u001b[0;34m\u001b[0m\u001b[0m\n\u001b[1;32m     35\u001b[0m         alpha_hat, gamma_hat = stage_1.get_stage_1(Y_nl,X_nl,X_up_nl,X_down_nl,delta,\n\u001b[0;32m---> 36\u001b[0;31m             p0,D_LB,D_add,max_iter,alpha_estimator,gamma_estimator)\n\u001b[0m\u001b[1;32m     37\u001b[0m         \u001b[0;32mif\u001b[0m \u001b[0mgamma_estimator\u001b[0m \u001b[0;34m==\u001b[0m \u001b[0;34m\"nnet\"\u001b[0m\u001b[0;34m:\u001b[0m \u001b[0;31m#nn; here, the derivative is learned during training\u001b[0m\u001b[0;34m\u001b[0m\u001b[0m\n\u001b[1;32m     38\u001b[0m             \u001b[0;32mdef\u001b[0m \u001b[0mm\u001b[0m\u001b[0;34m(\u001b[0m\u001b[0my\u001b[0m\u001b[0;34m,\u001b[0m \u001b[0mx\u001b[0m\u001b[0;34m,\u001b[0m \u001b[0mx_up\u001b[0m\u001b[0;34m,\u001b[0m \u001b[0mx_down\u001b[0m\u001b[0;34m,\u001b[0m \u001b[0mdelta\u001b[0m\u001b[0;34m,\u001b[0m \u001b[0mgamma\u001b[0m\u001b[0;34m)\u001b[0m\u001b[0;34m:\u001b[0m\u001b[0;34m\u001b[0m\u001b[0m\n",
      "\u001b[0;32m~/Documents/ag_production_functions/code/riesz_representer/rr_python/stage_1.py\u001b[0m in \u001b[0;36mget_stage_1\u001b[0;34m(Y, X, X_up, X_down, delta, p0, D_LB, D_add, max_iter, alpha_estimator, gamma_estimator)\u001b[0m\n\u001b[1;32m    244\u001b[0m     \u001b[0mn\u001b[0m \u001b[0;34m=\u001b[0m \u001b[0mX\u001b[0m\u001b[0;34m.\u001b[0m\u001b[0mshape\u001b[0m\u001b[0;34m[\u001b[0m\u001b[0;36m0\u001b[0m\u001b[0;34m]\u001b[0m \u001b[0;31m# num rows\u001b[0m\u001b[0;34m\u001b[0m\u001b[0m\n\u001b[1;32m    245\u001b[0m     \u001b[0mp\u001b[0m \u001b[0;34m=\u001b[0m \u001b[0mX\u001b[0m\u001b[0;34m.\u001b[0m\u001b[0mshape\u001b[0m\u001b[0;34m[\u001b[0m\u001b[0;36m1\u001b[0m\u001b[0;34m]\u001b[0m \u001b[0;31m# num columns\u001b[0m\u001b[0;34m\u001b[0m\u001b[0m\n\u001b[0;32m--> 246\u001b[0;31m     \u001b[0mMNG\u001b[0m \u001b[0;34m=\u001b[0m \u001b[0mprimitives\u001b[0m\u001b[0;34m.\u001b[0m\u001b[0mget_MNG\u001b[0m\u001b[0;34m(\u001b[0m\u001b[0mY\u001b[0m\u001b[0;34m,\u001b[0m \u001b[0mX\u001b[0m\u001b[0;34m,\u001b[0m \u001b[0mX_up\u001b[0m\u001b[0;34m,\u001b[0m \u001b[0mX_down\u001b[0m\u001b[0;34m,\u001b[0m \u001b[0mdelta\u001b[0m\u001b[0;34m)\u001b[0m\u001b[0;34m\u001b[0m\u001b[0m\n\u001b[0m\u001b[1;32m    247\u001b[0m     \u001b[0mB\u001b[0m \u001b[0;34m=\u001b[0m \u001b[0mMNG\u001b[0m\u001b[0;34m[\u001b[0m\u001b[0;36m3\u001b[0m\u001b[0;34m]\u001b[0m\u001b[0;34m\u001b[0m\u001b[0m\n\u001b[1;32m    248\u001b[0m \u001b[0;34m\u001b[0m\u001b[0m\n",
      "\u001b[0;32m~/Documents/ag_production_functions/code/riesz_representer/rr_python/primitives.py\u001b[0m in \u001b[0;36mget_MNG\u001b[0;34m(Y, X, X_up, X_down, delta)\u001b[0m\n\u001b[1;32m     38\u001b[0m \u001b[0;34m\u001b[0m\u001b[0m\n\u001b[1;32m     39\u001b[0m     \u001b[0;32mfor\u001b[0m \u001b[0mi\u001b[0m \u001b[0;32min\u001b[0m \u001b[0mrange\u001b[0m\u001b[0;34m(\u001b[0m\u001b[0mn\u001b[0m\u001b[0;34m)\u001b[0m\u001b[0;34m:\u001b[0m\u001b[0;34m\u001b[0m\u001b[0m\n\u001b[0;32m---> 40\u001b[0;31m         \u001b[0mN\u001b[0m\u001b[0;34m[\u001b[0m\u001b[0;34m:\u001b[0m\u001b[0;34m,\u001b[0m\u001b[0mi\u001b[0m\u001b[0;34m]\u001b[0m\u001b[0;34m=\u001b[0m\u001b[0mY\u001b[0m\u001b[0;34m[\u001b[0m\u001b[0mi\u001b[0m\u001b[0;34m]\u001b[0m\u001b[0;34m@\u001b[0m\u001b[0mX\u001b[0m\u001b[0;34m[\u001b[0m\u001b[0mi\u001b[0m\u001b[0;34m,\u001b[0m\u001b[0;34m:\u001b[0m\u001b[0;34m]\u001b[0m \u001b[0;31m#since m2(w,b)=y*x\u001b[0m\u001b[0;34m\u001b[0m\u001b[0m\n\u001b[0m\u001b[1;32m     41\u001b[0m         \u001b[0mM\u001b[0m\u001b[0;34m[\u001b[0m\u001b[0;34m:\u001b[0m\u001b[0;34m,\u001b[0m \u001b[0mi\u001b[0m\u001b[0;34m]\u001b[0m \u001b[0;34m=\u001b[0m \u001b[0;34m(\u001b[0m\u001b[0mX_up\u001b[0m\u001b[0;34m[\u001b[0m\u001b[0mi\u001b[0m\u001b[0;34m,\u001b[0m\u001b[0;34m:\u001b[0m\u001b[0;34m]\u001b[0m\u001b[0;34m-\u001b[0m\u001b[0mX_down\u001b[0m\u001b[0;34m[\u001b[0m\u001b[0mi\u001b[0m\u001b[0;34m,\u001b[0m\u001b[0;34m:\u001b[0m\u001b[0;34m]\u001b[0m\u001b[0;34m)\u001b[0m\u001b[0;34m/\u001b[0m\u001b[0mdelta\u001b[0m\u001b[0;34m\u001b[0m\u001b[0m\n\u001b[1;32m     42\u001b[0m     \u001b[0mG_hat\u001b[0m \u001b[0;34m=\u001b[0m \u001b[0mX\u001b[0m\u001b[0;34m.\u001b[0m\u001b[0mT\u001b[0m \u001b[0;34m@\u001b[0m \u001b[0mX\u001b[0m\u001b[0;34m\u001b[0m\u001b[0m\n",
      "\u001b[0;32m/Library/Frameworks/Python.framework/Versions/3.6/lib/python3.6/site-packages/pandas/core/series.py\u001b[0m in \u001b[0;36m__getitem__\u001b[0;34m(self, key)\u001b[0m\n\u001b[1;32m    765\u001b[0m         \u001b[0mkey\u001b[0m \u001b[0;34m=\u001b[0m \u001b[0mcom\u001b[0m\u001b[0;34m.\u001b[0m\u001b[0m_apply_if_callable\u001b[0m\u001b[0;34m(\u001b[0m\u001b[0mkey\u001b[0m\u001b[0;34m,\u001b[0m \u001b[0mself\u001b[0m\u001b[0;34m)\u001b[0m\u001b[0;34m\u001b[0m\u001b[0m\n\u001b[1;32m    766\u001b[0m         \u001b[0;32mtry\u001b[0m\u001b[0;34m:\u001b[0m\u001b[0;34m\u001b[0m\u001b[0m\n\u001b[0;32m--> 767\u001b[0;31m             \u001b[0mresult\u001b[0m \u001b[0;34m=\u001b[0m \u001b[0mself\u001b[0m\u001b[0;34m.\u001b[0m\u001b[0mindex\u001b[0m\u001b[0;34m.\u001b[0m\u001b[0mget_value\u001b[0m\u001b[0;34m(\u001b[0m\u001b[0mself\u001b[0m\u001b[0;34m,\u001b[0m \u001b[0mkey\u001b[0m\u001b[0;34m)\u001b[0m\u001b[0;34m\u001b[0m\u001b[0m\n\u001b[0m\u001b[1;32m    768\u001b[0m \u001b[0;34m\u001b[0m\u001b[0m\n\u001b[1;32m    769\u001b[0m             \u001b[0;32mif\u001b[0m \u001b[0;32mnot\u001b[0m \u001b[0mis_scalar\u001b[0m\u001b[0;34m(\u001b[0m\u001b[0mresult\u001b[0m\u001b[0;34m)\u001b[0m\u001b[0;34m:\u001b[0m\u001b[0;34m\u001b[0m\u001b[0m\n",
      "\u001b[0;32m/Library/Frameworks/Python.framework/Versions/3.6/lib/python3.6/site-packages/pandas/core/indexes/base.py\u001b[0m in \u001b[0;36mget_value\u001b[0;34m(self, series, key)\u001b[0m\n\u001b[1;32m   3116\u001b[0m         \u001b[0;32mtry\u001b[0m\u001b[0;34m:\u001b[0m\u001b[0;34m\u001b[0m\u001b[0m\n\u001b[1;32m   3117\u001b[0m             return self._engine.get_value(s, k,\n\u001b[0;32m-> 3118\u001b[0;31m                                           tz=getattr(series.dtype, 'tz', None))\n\u001b[0m\u001b[1;32m   3119\u001b[0m         \u001b[0;32mexcept\u001b[0m \u001b[0mKeyError\u001b[0m \u001b[0;32mas\u001b[0m \u001b[0me1\u001b[0m\u001b[0;34m:\u001b[0m\u001b[0;34m\u001b[0m\u001b[0m\n\u001b[1;32m   3120\u001b[0m             \u001b[0;32mif\u001b[0m \u001b[0mlen\u001b[0m\u001b[0;34m(\u001b[0m\u001b[0mself\u001b[0m\u001b[0;34m)\u001b[0m \u001b[0;34m>\u001b[0m \u001b[0;36m0\u001b[0m \u001b[0;32mand\u001b[0m \u001b[0mself\u001b[0m\u001b[0;34m.\u001b[0m\u001b[0minferred_type\u001b[0m \u001b[0;32min\u001b[0m \u001b[0;34m[\u001b[0m\u001b[0;34m'integer'\u001b[0m\u001b[0;34m,\u001b[0m \u001b[0;34m'boolean'\u001b[0m\u001b[0;34m]\u001b[0m\u001b[0;34m:\u001b[0m\u001b[0;34m\u001b[0m\u001b[0m\n",
      "\u001b[0;32mpandas/_libs/index.pyx\u001b[0m in \u001b[0;36mpandas._libs.index.IndexEngine.get_value\u001b[0;34m()\u001b[0m\n",
      "\u001b[0;32mpandas/_libs/index.pyx\u001b[0m in \u001b[0;36mpandas._libs.index.IndexEngine.get_value\u001b[0;34m()\u001b[0m\n",
      "\u001b[0;32mpandas/_libs/index.pyx\u001b[0m in \u001b[0;36mpandas._libs.index.IndexEngine.get_loc\u001b[0;34m()\u001b[0m\n",
      "\u001b[0;32mpandas/_libs/hashtable_class_helper.pxi\u001b[0m in \u001b[0;36mpandas._libs.hashtable.Int64HashTable.get_item\u001b[0;34m()\u001b[0m\n",
      "\u001b[0;32mpandas/_libs/hashtable_class_helper.pxi\u001b[0m in \u001b[0;36mpandas._libs.hashtable.Int64HashTable.get_item\u001b[0;34m()\u001b[0m\n",
      "\u001b[0;31mKeyError\u001b[0m: 0"
     ]
    }
   ],
   "source": [
    "\n",
    "import numpy as np\n",
    "from numpy import linalg as LA\n",
    "from sklearn.model_selection import KFold\n",
    "\n",
    "base = \"/Users/max/Documents/ag_production_functions/code/riesz_representer/rr_python/\" \n",
    "\n",
    "import os\n",
    "import sys\n",
    "sys.path.append(os.path.abspath(base))\n",
    "import config\n",
    "import stage_1\n",
    "import primitives\n",
    "\n",
    "def rrr(Y, X, X_up, X_down, delta, p0, D_LB, D_add, max_iter, alpha_estimator, gamma_estimator, bias):\n",
    "    n=X.shape[0]\n",
    "    kf = KFold(n_splits=config.L, shuffle=True, random_state=config.random)\n",
    "    Psi_tilde = None\n",
    "    for l_index, nl_index in kf.split(X):\n",
    "        Y_l = Y[l_index]\n",
    "        Y_nl = Y[nl_index]\n",
    "\n",
    "        X_l = X[l_index, :]\n",
    "        X_nl = X[nl_index, :]\n",
    "\n",
    "        X_up_l = X_up[l_index, :]\n",
    "        X_up_nl = X_up[nl_index, :]\n",
    "        \n",
    "        X_down_l = X_down[l_index, :]\n",
    "        X_down_nl = X_down[nl_index, :]\n",
    "\n",
    "        n_l = X_l.shape[0]\n",
    "        n_nl = X_nl.shape[0]\n",
    "\n",
    "        alpha_hat, gamma_hat = stage_1.get_stage_1(Y_nl,X_nl,X_up_nl,X_down_nl,delta,\n",
    "            p0,D_LB,D_add,max_iter,alpha_estimator,gamma_estimator)\n",
    "        if gamma_estimator == \"nnet\": #nn; here, the derivative is learned during training \n",
    "            def m(y, x, x_up, x_down, delta, gamma):\n",
    "                return gamma_hat.get_derivative(x)\n",
    "        else: # Otherwise, we use the partial difference to approximate m()\n",
    "            def m(y, x, x_up, x_down, delta, gamma):\n",
    "                return m_diff(y, x, x_up, x_down, delta, gamma)\n",
    "          #   Psi_tilde_l=rep(0,n_l)\n",
    "        gamma_predictor = gamma_hat.predict if gamma_estimator ==3 else gamma_hat\n",
    "        if bias:\n",
    "            Psi_tilde_l = [primitives.psi_tilde_bias(Y_l[i],X_l[i, :],X_up_l[i, :],X_down_l[i, :],\n",
    "                    delta,m,alpha_hat,gamma_predictor) for i in range(n_l)]# naive plug-in estimator\n",
    "        else:\n",
    "            Psi_tilde_l = [primitives.psi_tilde(Y_l[i],X_l[i, :],X_up_l[i, :],X_down_l[i, :],\n",
    "                    delta,m,alpha_hat,gamma_predictor) for i in range(n_l)]# DML approach\n",
    "        if Psi_tilde is None:\n",
    "            Psi_tilde = Psi_tilde_l\n",
    "        else:\n",
    "            Psi_tilde = np.concat([Psi_tilde, Psi_tilde_l])\n",
    "\n",
    "    avg_derivative=np.mean(Psi_tilde)\n",
    "  \n",
    "    #influences\n",
    "    Psi=Psi_tilde-avg_derivative\n",
    "\n",
    "    var=np.mean(Psi**2)\n",
    "    se=np.sqrt(var/n)\n",
    "    return (n, avg_derivative, se)\n",
    "rrr(Y, X, X_up, X_down, delta, p0,\n",
    "    D_LB,D_add,max_iter,alpha_estimator,gamma_estimator,bias)"
   ]
  },
  {
   "cell_type": "code",
   "execution_count": 29,
   "metadata": {},
   "outputs": [
    {
     "data": {
      "text/plain": [
       "(2, 94)"
      ]
     },
     "execution_count": 29,
     "metadata": {},
     "output_type": "execute_result"
    }
   ],
   "source": [
    "np.concatenate([X_down[0:2, :], X_down[2:4, :]]).shape"
   ]
  },
  {
   "cell_type": "code",
   "execution_count": 47,
   "metadata": {},
   "outputs": [
    {
     "data": {
      "text/plain": [
       "array([1., 1., 1., 1., 1., 1., 1., 1., 1., 1., 1., 1., 1., 1., 1., 1., 1.,\n",
       "       1., 1., 1., 1., 1., 1., 1., 1., 1., 1., 1., 1., 1., 1., 1., 1., 1.,\n",
       "       1., 1., 1., 1., 1., 1., 1., 1., 1., 1., 1., 1., 1.])"
      ]
     },
     "execution_count": 47,
     "metadata": {},
     "output_type": "execute_result"
    }
   ],
   "source": [
    "N = np.zeros((X.shape[1], X.shape[0]))\n",
    "N[:, 0] = np.ones(X.shape[1])\n",
    "N[:, 0]"
   ]
  },
  {
   "cell_type": "code",
   "execution_count": 87,
   "metadata": {},
   "outputs": [
    {
     "data": {
      "text/plain": [
       "(47,)"
      ]
     },
     "execution_count": 87,
     "metadata": {},
     "output_type": "execute_result"
    }
   ],
   "source": [
    "def get_MNG(Y, X, X_up, X_down, delta):\n",
    "    \"\"\"\n",
    "    Finds partial difference, using m_diff\n",
    "    \"\"\"\n",
    "    n = X.shape[0]\n",
    "    p = X.shape[1]\n",
    "\n",
    "    M=np.zeros((p, n))\n",
    "    N=np.zeros((p, n))\n",
    "\n",
    "    for i in range(n):\n",
    "        N[:,i]=Y[i] * X[i,:] #since m2(w,b)=y*x\n",
    "        M[:,i] = (X_up[i,:]-X_down[i,:])/delta\n",
    "    G_hat = X.T @ X\n",
    "    M_hat = np.mean(M, 1) # Row means \n",
    "    N_hat = np.mean(N, 1)\n",
    "    return M_hat, N_hat, G_hat, X # uncomment to return B as well \n",
    "get_MNG(Y, X, X_up, X_down, delta)[0].shape"
   ]
  },
  {
   "cell_type": "code",
   "execution_count": 55,
   "metadata": {},
   "outputs": [
    {
     "data": {
      "text/plain": [
       "23    5.549076\n",
       "30    7.037467\n",
       "34    6.104347\n",
       "49    4.399375\n",
       "88    5.662961\n",
       "Name: gas, dtype: float32"
      ]
     },
     "execution_count": 55,
     "metadata": {},
     "output_type": "execute_result"
    }
   ],
   "source": [
    "Y.head()"
   ]
  },
  {
   "cell_type": "code",
   "execution_count": 16,
   "metadata": {},
   "outputs": [
    {
     "data": {
      "text/plain": [
       "array([0, 1, 2, 3, 4])"
      ]
     },
     "execution_count": 16,
     "metadata": {},
     "output_type": "execute_result"
    }
   ],
   "source": [
    "np.unique(X_up)"
   ]
  },
  {
   "cell_type": "code",
   "execution_count": 29,
   "metadata": {},
   "outputs": [
    {
     "data": {
      "text/plain": [
       "23      5.549076\n",
       "30      7.037467\n",
       "34      6.104347\n",
       "49      4.399375\n",
       "88      5.662961\n",
       "105     5.684939\n",
       "111     5.730100\n",
       "112     5.912962\n",
       "120     4.405499\n",
       "123     5.706446\n",
       "133     6.148041\n",
       "145     5.785670\n",
       "148     5.191845\n",
       "179     6.481884\n",
       "190     7.078510\n",
       "236     5.695078\n",
       "264     5.426711\n",
       "277     5.270946\n",
       "291     5.953243\n",
       "312     6.624862\n",
       "319     5.682219\n",
       "320     5.718999\n",
       "322     5.463832\n",
       "329     4.928702\n",
       "355     5.842384\n",
       "362     6.567235\n",
       "373     5.839187\n",
       "403     6.079933\n",
       "410     5.517453\n",
       "416     4.621044\n",
       "          ...   \n",
       "4686    5.968196\n",
       "4721    4.909709\n",
       "4722    4.010963\n",
       "4727    5.556056\n",
       "4750    6.266441\n",
       "4756    6.209796\n",
       "4759    4.757032\n",
       "4760    5.739150\n",
       "4761    5.744925\n",
       "4781    4.627910\n",
       "4782    6.786491\n",
       "4783    5.650382\n",
       "4787    6.090405\n",
       "4814    6.468009\n",
       "4827    6.076725\n",
       "4848    7.156644\n",
       "4854    5.330785\n",
       "4855    5.105946\n",
       "4862    5.320079\n",
       "4876    5.642616\n",
       "4887    5.231643\n",
       "4894    6.048317\n",
       "4897    5.243333\n",
       "4906    5.906451\n",
       "4907    5.205654\n",
       "4916    5.056246\n",
       "4925    5.972027\n",
       "4988    6.007584\n",
       "4989    5.670570\n",
       "4998    7.388884\n",
       "Name: gas, Length: 491, dtype: float32"
      ]
     },
     "execution_count": 29,
     "metadata": {},
     "output_type": "execute_result"
    }
   ],
   "source": [
    "Y[X_up == X_down - 1]"
   ]
  },
  {
   "cell_type": "code",
   "execution_count": 37,
   "metadata": {},
   "outputs": [
    {
     "data": {
      "text/plain": [
       "array([0., 0., 0., 0., 0., 0., 0., 0., 0., 0., 0., 0., 0., 0., 0., 0., 0.,\n",
       "       0., 0., 0., 0., 0., 0., 0.])"
      ]
     },
     "execution_count": 37,
     "metadata": {},
     "output_type": "execute_result"
    }
   ],
   "source": [
    "np.zeros(24)"
   ]
  },
  {
   "cell_type": "code",
   "execution_count": 39,
   "metadata": {},
   "outputs": [
    {
     "data": {
      "text/plain": [
       "47"
      ]
     },
     "execution_count": 39,
     "metadata": {},
     "output_type": "execute_result"
    }
   ],
   "source": [
    "X.shape[1]"
   ]
  },
  {
   "cell_type": "code",
   "execution_count": null,
   "metadata": {},
   "outputs": [],
   "source": []
  }
 ],
 "metadata": {
  "kernelspec": {
   "display_name": "Python 3",
   "language": "python",
   "name": "python3"
  },
  "language_info": {
   "codemirror_mode": {
    "name": "ipython",
    "version": 3
   },
   "file_extension": ".py",
   "mimetype": "text/x-python",
   "name": "python",
   "nbconvert_exporter": "python",
   "pygments_lexer": "ipython3",
   "version": "3.6.5"
  }
 },
 "nbformat": 4,
 "nbformat_minor": 2
}
